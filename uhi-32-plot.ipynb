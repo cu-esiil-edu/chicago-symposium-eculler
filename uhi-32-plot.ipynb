{
  "cells": [
    {
      "cell_type": "markdown",
      "metadata": {},
      "source": [
        "# STEP 4: Plot\n",
        "\n",
        "First things first – make sure to load the climate `DataFrame` you\n",
        "stored in the previous notebooks using Jupyter cell magic:"
      ],
      "id": "e2df693c-001f-4650-b8e0-6201c2f1a830"
    },
    {
      "cell_type": "code",
      "execution_count": 1,
      "metadata": {},
      "outputs": [],
      "source": [
        "# Load all stored variables\n",
        "%store -r"
      ],
      "id": "9ccb03b2"
    },
    {
      "cell_type": "markdown",
      "metadata": {},
      "source": [
        "Let’s try plotting the joined `DataFrame`, just like we plotted the data\n",
        "previously:"
      ],
      "id": "ffdf653d-7da8-45be-812c-29a0a3ec15c7"
    },
    {
      "cell_type": "code",
      "execution_count": 2,
      "metadata": {},
      "outputs": [],
      "source": [
        "tmax_df.plot()"
      ],
      "id": "eb8fa1a3"
    },
    {
      "cell_type": "markdown",
      "metadata": {},
      "source": [
        "Hopefully you can see all the data! However, this plot is missing some\n",
        "key elements, and is sadly lacking in style.\n",
        "\n",
        "<link rel=\"stylesheet\" type=\"text/css\" href=\"./assets/styles.css\"><div class=\"callout callout-style-default callout-response\"><div class=\"callout-header\"><div class=\"callout-icon-container\"><i class=\"callout-icon\"></i></div></div><div class=\"callout-body-container callout-body\"><p>What do you notice about this plot that you would like to change for\n",
        "a final figure?</p></div></div>"
      ],
      "id": "ce9b3d32-4747-4f7f-ad0b-9aff6a13f9b8"
    },
    {
      "cell_type": "markdown",
      "metadata": {},
      "source": [
        "YOUR ANSWER HERE"
      ],
      "id": "87595894-6116-45ce-818b-b77ec5a4fa35"
    },
    {
      "cell_type": "markdown",
      "metadata": {},
      "source": [
        "### Rename columns for nicer labels\n",
        "\n",
        "Something you might have noticed about your plot is that the labels in\n",
        "the legend don’t look very nice. Most things about hte plot we can\n",
        "change by passing **parameters** to the `.plot()` method (see below).\n",
        "However, we think the easiest way to change the legend labels in Python\n",
        "is to rename the columns. Python will automatically use the column names\n",
        "as legend labels just like it did in the first plot!\n",
        "\n",
        "> **Tip**\n",
        ">\n",
        "> Once we rename columns to non-machine-readable names that include\n",
        "> spaces and special characters, they will be harder to work with in\n",
        "> Python. That’s why we’ve used a different name to store the\n",
        "> `DataFrame` with renamed columns.\n",
        "\n",
        "<link rel=\"stylesheet\" type=\"text/css\" href=\"./assets/styles.css\"><div class=\"callout callout-style-default callout-titled callout-task\"><div class=\"callout-header\"><div class=\"callout-icon-container\"><i class=\"callout-icon\"></i></div><div class=\"callout-title-container flex-fill\">Try It: Rename `DataFrame` columns</div></div><div class=\"callout-body-container callout-body\"><p>Starting with the sample code below, which contains a\n",
        "<strong>dictionary</strong>, or set of named values:</p>\n",
        "<ol type=\"1\">\n",
        "<li>Change <code>previous_column_name</code> to the name of one of the\n",
        "columns you want to rename, and <code>New Column Name</code> to the\n",
        "label you want to appear on your plot.</li>\n",
        "<li>Run the code and check that you have successfully changed the column\n",
        "name. Watch out for typos in the column name.</li>\n",
        "<li>Make a new entry inside the dictionary (look for the curly braces\n",
        "(<code>{}</code>)), and change the values to match the other column you\n",
        "want to rename. <strong>Make sure to separate the two rows with a\n",
        "comma</strong> so Python knows you’re starting a new entry.</li>\n",
        "<li>Check that your code works.</li>\n",
        "</ol></div></div>"
      ],
      "id": "28d15d21-eaaa-4b33-befb-cbafc1e2222e"
    },
    {
      "cell_type": "code",
      "execution_count": 3,
      "metadata": {
        "highlight": true
      },
      "outputs": [],
      "source": [
        "# Rename the columns\n",
        "tmax_plot_df = tmax_df.rename(\n",
        "    columns={\n",
        "        'previous_column_name': \"New Column Name\"\n",
        "    }\n",
        ")\n",
        "tmax_plot_df.head()"
      ],
      "id": "89550665"
    },
    {
      "cell_type": "markdown",
      "metadata": {},
      "source": [
        "### Generate a figure\n",
        "\n",
        "Now, we’re ready to make a quality figure of the data!\n",
        "\n",
        "<link rel=\"stylesheet\" type=\"text/css\" href=\"./assets/styles.css\"><div class=\"callout callout-style-default callout-titled callout-task\"><div class=\"callout-header\"><div class=\"callout-icon-container\"><i class=\"callout-icon\"></i></div><div class=\"callout-title-container flex-fill\">Try It</div></div><div class=\"callout-body-container callout-body\"><p>Below, you’ll see some code to make a customized figure of your data.\n",
        "Starting there:</p>\n",
        "<ol type=\"1\">\n",
        "<li>Replace <code>TITLE HERE</code> with your figure title</li>\n",
        "<li>Uncomment the other parameters by removing the <code>#</code> at the\n",
        "beginning of the line.</li>\n",
        "<li>Experiment with different figure sizes, <a\n",
        "href=\"https://matplotlib.org/stable/api/markers_api.html\">markers</a>,\n",
        "<a\n",
        "href=\"https://matplotlib.org/stable/gallery/lines_bars_and_markers/linestyles.html\">line\n",
        "styles</a>, and <a\n",
        "href=\"https://matplotlib.org/stable/users/explain/colors/colormaps.html\">color\n",
        "maps</a>.</li>\n",
        "</ol>\n",
        "<div data-__quarto_custom=\"true\" data-__quarto_custom_type=\"Callout\"\n",
        "data-__quarto_custom_context=\"Block\" data-__quarto_custom_id=\"5\">\n",
        "<div data-__quarto_custom_scaffold=\"true\">\n",
        "What does <code>#</code> do in Python?\n",
        "</div>\n",
        "<div data-__quarto_custom_scaffold=\"true\">\n",
        "<p>The <code>#</code> indicates a comment – it tells Python to ignore\n",
        "everything on that line. Comments are great for leaving notes to\n",
        "yourself or others, or for trying out slightly different pieces of\n",
        "code.</p>\n",
        "</div>\n",
        "</div></div></div>"
      ],
      "id": "79caa998-69d0-41b9-84b6-9da7455669f0"
    },
    {
      "cell_type": "code",
      "execution_count": 5,
      "metadata": {
        "highlight": true
      },
      "outputs": [],
      "source": [
        "tmax_plot_df.plot(\n",
        "    #figsize=(8, 5),\n",
        "    #marker='o', linestyle='-',\n",
        "    xlabel='Date', ylabel='Temperature ($^\\circ$F)',\n",
        "    title='TITLE HERE',\n",
        "    #colormap='Set1'\n",
        ")"
      ],
      "id": "bf193875"
    },
    {
      "cell_type": "markdown",
      "metadata": {},
      "source": [
        "<link rel=\"stylesheet\" type=\"text/css\" href=\"./assets/styles.css\"><div class=\"callout callout-style-default callout-titled callout-discuss\"><div class=\"callout-header\"><div class=\"callout-icon-container\"><i class=\"callout-icon\"></i></div><div class=\"callout-title-container flex-fill\">Conversation Starter: What do you notice about the data?</div></div><div class=\"callout-body-container callout-body\"><p>Take a few minutes to discuss the patterns and trends you see in the\n",
        "data with your neighbors.</p></div></div>"
      ],
      "id": "38a354bb-af93-4882-936f-2b41cda8dc62"
    },
    {
      "cell_type": "markdown",
      "metadata": {},
      "source": [
        "YOUR ANSWER HERE"
      ],
      "id": "ba52dd44-37fb-4dd4-864f-29a774ee6bdf"
    }
  ],
  "nbformat": 4,
  "nbformat_minor": 5,
  "metadata": {
    "kernelspec": {
      "name": "python3",
      "display_name": "Python 3 (ipykernel)",
      "language": "python"
    },
    "language_info": {
      "name": "python",
      "codemirror_mode": {
        "name": "ipython",
        "version": "3"
      },
      "file_extension": ".py",
      "mimetype": "text/x-python",
      "nbconvert_exporter": "python",
      "pygments_lexer": "ipython3",
      "version": "3.10.14"
    }
  }
}